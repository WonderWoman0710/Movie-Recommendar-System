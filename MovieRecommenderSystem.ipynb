{
 "cells": [
  {
   "cell_type": "code",
   "execution_count": 1,
   "id": "ff77053c-830a-4dbb-ae4c-9d11563219d5",
   "metadata": {},
   "outputs": [],
   "source": [
    "import pandas as pd"
   ]
  },
  {
   "cell_type": "code",
   "execution_count": 2,
   "id": "9899ec6c-e7e5-4875-b2c5-4aeeda2add76",
   "metadata": {},
   "outputs": [],
   "source": [
    "data = pd.read_csv(\"netflix_titles.csv\")"
   ]
  },
  {
   "cell_type": "code",
   "execution_count": 3,
   "id": "bead2d5d-3642-4f73-98d1-7cf9d8597293",
   "metadata": {},
   "outputs": [],
   "source": [
    "data ['tags'] = data['director'] + ' ' + data['cast']+ ' ' + data['listed_in'] + ' ' + data['description']"
   ]
  },
  {
   "cell_type": "code",
   "execution_count": 4,
   "id": "70c65171-05ec-416d-8f62-ae2c06bc4c6e",
   "metadata": {
    "scrolled": true
   },
   "outputs": [
    {
     "data": {
      "text/html": [
       "<div>\n",
       "<style scoped>\n",
       "    .dataframe tbody tr th:only-of-type {\n",
       "        vertical-align: middle;\n",
       "    }\n",
       "\n",
       "    .dataframe tbody tr th {\n",
       "        vertical-align: top;\n",
       "    }\n",
       "\n",
       "    .dataframe thead th {\n",
       "        text-align: right;\n",
       "    }\n",
       "</style>\n",
       "<table border=\"1\" class=\"dataframe\">\n",
       "  <thead>\n",
       "    <tr style=\"text-align: right;\">\n",
       "      <th></th>\n",
       "      <th>show_id</th>\n",
       "      <th>type</th>\n",
       "      <th>title</th>\n",
       "      <th>director</th>\n",
       "      <th>cast</th>\n",
       "      <th>country</th>\n",
       "      <th>date_added</th>\n",
       "      <th>release_year</th>\n",
       "      <th>rating</th>\n",
       "      <th>duration</th>\n",
       "      <th>listed_in</th>\n",
       "      <th>description</th>\n",
       "      <th>tags</th>\n",
       "    </tr>\n",
       "  </thead>\n",
       "  <tbody>\n",
       "    <tr>\n",
       "      <th>0</th>\n",
       "      <td>s1</td>\n",
       "      <td>Movie</td>\n",
       "      <td>Dick Johnson Is Dead</td>\n",
       "      <td>Kirsten Johnson</td>\n",
       "      <td>NaN</td>\n",
       "      <td>United States</td>\n",
       "      <td>September 25, 2021</td>\n",
       "      <td>2020</td>\n",
       "      <td>PG-13</td>\n",
       "      <td>90 min</td>\n",
       "      <td>Documentaries</td>\n",
       "      <td>As her father nears the end of his life, filmm...</td>\n",
       "      <td>NaN</td>\n",
       "    </tr>\n",
       "    <tr>\n",
       "      <th>1</th>\n",
       "      <td>s2</td>\n",
       "      <td>TV Show</td>\n",
       "      <td>Blood &amp; Water</td>\n",
       "      <td>NaN</td>\n",
       "      <td>Ama Qamata, Khosi Ngema, Gail Mabalane, Thaban...</td>\n",
       "      <td>South Africa</td>\n",
       "      <td>September 24, 2021</td>\n",
       "      <td>2021</td>\n",
       "      <td>TV-MA</td>\n",
       "      <td>2 Seasons</td>\n",
       "      <td>International TV Shows, TV Dramas, TV Mysteries</td>\n",
       "      <td>After crossing paths at a party, a Cape Town t...</td>\n",
       "      <td>NaN</td>\n",
       "    </tr>\n",
       "    <tr>\n",
       "      <th>2</th>\n",
       "      <td>s3</td>\n",
       "      <td>TV Show</td>\n",
       "      <td>Ganglands</td>\n",
       "      <td>Julien Leclercq</td>\n",
       "      <td>Sami Bouajila, Tracy Gotoas, Samuel Jouy, Nabi...</td>\n",
       "      <td>NaN</td>\n",
       "      <td>September 24, 2021</td>\n",
       "      <td>2021</td>\n",
       "      <td>TV-MA</td>\n",
       "      <td>1 Season</td>\n",
       "      <td>Crime TV Shows, International TV Shows, TV Act...</td>\n",
       "      <td>To protect his family from a powerful drug lor...</td>\n",
       "      <td>Julien Leclercq Sami Bouajila, Tracy Gotoas, S...</td>\n",
       "    </tr>\n",
       "    <tr>\n",
       "      <th>3</th>\n",
       "      <td>s4</td>\n",
       "      <td>TV Show</td>\n",
       "      <td>Jailbirds New Orleans</td>\n",
       "      <td>NaN</td>\n",
       "      <td>NaN</td>\n",
       "      <td>NaN</td>\n",
       "      <td>September 24, 2021</td>\n",
       "      <td>2021</td>\n",
       "      <td>TV-MA</td>\n",
       "      <td>1 Season</td>\n",
       "      <td>Docuseries, Reality TV</td>\n",
       "      <td>Feuds, flirtations and toilet talk go down amo...</td>\n",
       "      <td>NaN</td>\n",
       "    </tr>\n",
       "    <tr>\n",
       "      <th>4</th>\n",
       "      <td>s5</td>\n",
       "      <td>TV Show</td>\n",
       "      <td>Kota Factory</td>\n",
       "      <td>NaN</td>\n",
       "      <td>Mayur More, Jitendra Kumar, Ranjan Raj, Alam K...</td>\n",
       "      <td>India</td>\n",
       "      <td>September 24, 2021</td>\n",
       "      <td>2021</td>\n",
       "      <td>TV-MA</td>\n",
       "      <td>2 Seasons</td>\n",
       "      <td>International TV Shows, Romantic TV Shows, TV ...</td>\n",
       "      <td>In a city of coaching centers known to train I...</td>\n",
       "      <td>NaN</td>\n",
       "    </tr>\n",
       "  </tbody>\n",
       "</table>\n",
       "</div>"
      ],
      "text/plain": [
       "  show_id     type                  title         director  \\\n",
       "0      s1    Movie   Dick Johnson Is Dead  Kirsten Johnson   \n",
       "1      s2  TV Show          Blood & Water              NaN   \n",
       "2      s3  TV Show              Ganglands  Julien Leclercq   \n",
       "3      s4  TV Show  Jailbirds New Orleans              NaN   \n",
       "4      s5  TV Show           Kota Factory              NaN   \n",
       "\n",
       "                                                cast        country  \\\n",
       "0                                                NaN  United States   \n",
       "1  Ama Qamata, Khosi Ngema, Gail Mabalane, Thaban...   South Africa   \n",
       "2  Sami Bouajila, Tracy Gotoas, Samuel Jouy, Nabi...            NaN   \n",
       "3                                                NaN            NaN   \n",
       "4  Mayur More, Jitendra Kumar, Ranjan Raj, Alam K...          India   \n",
       "\n",
       "           date_added  release_year rating   duration  \\\n",
       "0  September 25, 2021          2020  PG-13     90 min   \n",
       "1  September 24, 2021          2021  TV-MA  2 Seasons   \n",
       "2  September 24, 2021          2021  TV-MA   1 Season   \n",
       "3  September 24, 2021          2021  TV-MA   1 Season   \n",
       "4  September 24, 2021          2021  TV-MA  2 Seasons   \n",
       "\n",
       "                                           listed_in  \\\n",
       "0                                      Documentaries   \n",
       "1    International TV Shows, TV Dramas, TV Mysteries   \n",
       "2  Crime TV Shows, International TV Shows, TV Act...   \n",
       "3                             Docuseries, Reality TV   \n",
       "4  International TV Shows, Romantic TV Shows, TV ...   \n",
       "\n",
       "                                         description  \\\n",
       "0  As her father nears the end of his life, filmm...   \n",
       "1  After crossing paths at a party, a Cape Town t...   \n",
       "2  To protect his family from a powerful drug lor...   \n",
       "3  Feuds, flirtations and toilet talk go down amo...   \n",
       "4  In a city of coaching centers known to train I...   \n",
       "\n",
       "                                                tags  \n",
       "0                                                NaN  \n",
       "1                                                NaN  \n",
       "2  Julien Leclercq Sami Bouajila, Tracy Gotoas, S...  \n",
       "3                                                NaN  \n",
       "4                                                NaN  "
      ]
     },
     "execution_count": 4,
     "metadata": {},
     "output_type": "execute_result"
    }
   ],
   "source": [
    "data.head()"
   ]
  },
  {
   "cell_type": "code",
   "execution_count": 5,
   "id": "04b8be74-c77a-4edc-98f5-60229a87206d",
   "metadata": {},
   "outputs": [],
   "source": [
    "data = data[['show_id','type','title', 'tags']]"
   ]
  },
  {
   "cell_type": "code",
   "execution_count": 6,
   "id": "bf90e485-37ac-4750-98e3-5aca30ff9605",
   "metadata": {},
   "outputs": [],
   "source": [
    "#drop the columns that has NA value in their tags\n",
    "data.dropna(inplace=True)"
   ]
  },
  {
   "cell_type": "code",
   "execution_count": 7,
   "id": "06e09667-f253-4851-a9e1-a46a07ed2a69",
   "metadata": {},
   "outputs": [],
   "source": [
    "data.reset_index(inplace =True, drop=True)"
   ]
  },
  {
   "cell_type": "code",
   "execution_count": 8,
   "id": "e050f93f-e7fc-4572-89a5-646ab60fb9aa",
   "metadata": {
    "scrolled": true
   },
   "outputs": [
    {
     "data": {
      "text/html": [
       "<div>\n",
       "<style scoped>\n",
       "    .dataframe tbody tr th:only-of-type {\n",
       "        vertical-align: middle;\n",
       "    }\n",
       "\n",
       "    .dataframe tbody tr th {\n",
       "        vertical-align: top;\n",
       "    }\n",
       "\n",
       "    .dataframe thead th {\n",
       "        text-align: right;\n",
       "    }\n",
       "</style>\n",
       "<table border=\"1\" class=\"dataframe\">\n",
       "  <thead>\n",
       "    <tr style=\"text-align: right;\">\n",
       "      <th></th>\n",
       "      <th>show_id</th>\n",
       "      <th>type</th>\n",
       "      <th>title</th>\n",
       "      <th>tags</th>\n",
       "    </tr>\n",
       "  </thead>\n",
       "  <tbody>\n",
       "    <tr>\n",
       "      <th>0</th>\n",
       "      <td>s3</td>\n",
       "      <td>TV Show</td>\n",
       "      <td>Ganglands</td>\n",
       "      <td>Julien Leclercq Sami Bouajila, Tracy Gotoas, S...</td>\n",
       "    </tr>\n",
       "    <tr>\n",
       "      <th>1</th>\n",
       "      <td>s6</td>\n",
       "      <td>TV Show</td>\n",
       "      <td>Midnight Mass</td>\n",
       "      <td>Mike Flanagan Kate Siegel, Zach Gilford, Hamis...</td>\n",
       "    </tr>\n",
       "    <tr>\n",
       "      <th>2</th>\n",
       "      <td>s7</td>\n",
       "      <td>Movie</td>\n",
       "      <td>My Little Pony: A New Generation</td>\n",
       "      <td>Robert Cullen, José Luis Ucha Vanessa Hudgens,...</td>\n",
       "    </tr>\n",
       "    <tr>\n",
       "      <th>3</th>\n",
       "      <td>s8</td>\n",
       "      <td>Movie</td>\n",
       "      <td>Sankofa</td>\n",
       "      <td>Haile Gerima Kofi Ghanaba, Oyafunmike Ogunlano...</td>\n",
       "    </tr>\n",
       "    <tr>\n",
       "      <th>4</th>\n",
       "      <td>s9</td>\n",
       "      <td>TV Show</td>\n",
       "      <td>The Great British Baking Show</td>\n",
       "      <td>Andy Devonshire Mel Giedroyc, Sue Perkins, Mar...</td>\n",
       "    </tr>\n",
       "    <tr>\n",
       "      <th>...</th>\n",
       "      <td>...</td>\n",
       "      <td>...</td>\n",
       "      <td>...</td>\n",
       "      <td>...</td>\n",
       "    </tr>\n",
       "    <tr>\n",
       "      <th>5695</th>\n",
       "      <td>s8802</td>\n",
       "      <td>Movie</td>\n",
       "      <td>Zinzana</td>\n",
       "      <td>Majid Al Ansari Ali Suliman, Saleh Bakri, Yasa...</td>\n",
       "    </tr>\n",
       "    <tr>\n",
       "      <th>5696</th>\n",
       "      <td>s8803</td>\n",
       "      <td>Movie</td>\n",
       "      <td>Zodiac</td>\n",
       "      <td>David Fincher Mark Ruffalo, Jake Gyllenhaal, R...</td>\n",
       "    </tr>\n",
       "    <tr>\n",
       "      <th>5697</th>\n",
       "      <td>s8805</td>\n",
       "      <td>Movie</td>\n",
       "      <td>Zombieland</td>\n",
       "      <td>Ruben Fleischer Jesse Eisenberg, Woody Harrels...</td>\n",
       "    </tr>\n",
       "    <tr>\n",
       "      <th>5698</th>\n",
       "      <td>s8806</td>\n",
       "      <td>Movie</td>\n",
       "      <td>Zoom</td>\n",
       "      <td>Peter Hewitt Tim Allen, Courteney Cox, Chevy C...</td>\n",
       "    </tr>\n",
       "    <tr>\n",
       "      <th>5699</th>\n",
       "      <td>s8807</td>\n",
       "      <td>Movie</td>\n",
       "      <td>Zubaan</td>\n",
       "      <td>Mozez Singh Vicky Kaushal, Sarah-Jane Dias, Ra...</td>\n",
       "    </tr>\n",
       "  </tbody>\n",
       "</table>\n",
       "<p>5700 rows × 4 columns</p>\n",
       "</div>"
      ],
      "text/plain": [
       "     show_id     type                             title  \\\n",
       "0         s3  TV Show                         Ganglands   \n",
       "1         s6  TV Show                     Midnight Mass   \n",
       "2         s7    Movie  My Little Pony: A New Generation   \n",
       "3         s8    Movie                           Sankofa   \n",
       "4         s9  TV Show     The Great British Baking Show   \n",
       "...      ...      ...                               ...   \n",
       "5695   s8802    Movie                           Zinzana   \n",
       "5696   s8803    Movie                            Zodiac   \n",
       "5697   s8805    Movie                        Zombieland   \n",
       "5698   s8806    Movie                              Zoom   \n",
       "5699   s8807    Movie                            Zubaan   \n",
       "\n",
       "                                                   tags  \n",
       "0     Julien Leclercq Sami Bouajila, Tracy Gotoas, S...  \n",
       "1     Mike Flanagan Kate Siegel, Zach Gilford, Hamis...  \n",
       "2     Robert Cullen, José Luis Ucha Vanessa Hudgens,...  \n",
       "3     Haile Gerima Kofi Ghanaba, Oyafunmike Ogunlano...  \n",
       "4     Andy Devonshire Mel Giedroyc, Sue Perkins, Mar...  \n",
       "...                                                 ...  \n",
       "5695  Majid Al Ansari Ali Suliman, Saleh Bakri, Yasa...  \n",
       "5696  David Fincher Mark Ruffalo, Jake Gyllenhaal, R...  \n",
       "5697  Ruben Fleischer Jesse Eisenberg, Woody Harrels...  \n",
       "5698  Peter Hewitt Tim Allen, Courteney Cox, Chevy C...  \n",
       "5699  Mozez Singh Vicky Kaushal, Sarah-Jane Dias, Ra...  \n",
       "\n",
       "[5700 rows x 4 columns]"
      ]
     },
     "execution_count": 8,
     "metadata": {},
     "output_type": "execute_result"
    }
   ],
   "source": [
    "data"
   ]
  },
  {
   "cell_type": "code",
   "execution_count": 9,
   "id": "ffd5884a-18ca-42d0-aa34-6c16dfede6b6",
   "metadata": {},
   "outputs": [],
   "source": [
    "from sklearn.feature_extraction.text import CountVectorizer"
   ]
  },
  {
   "cell_type": "code",
   "execution_count": 20,
   "id": "b8fd85f4-b395-4111-ad82-9b57a0ecd146",
   "metadata": {},
   "outputs": [],
   "source": [
    "cv = CountVectorizer(max_features=5700,stop_words= 'english')"
   ]
  },
  {
   "cell_type": "code",
   "execution_count": 21,
   "id": "52299941-d364-433f-8278-dd32fcf38838",
   "metadata": {},
   "outputs": [],
   "source": [
    "from sklearn.metrics.pairwise import cosine_similarity"
   ]
  },
  {
   "cell_type": "code",
   "execution_count": 22,
   "id": "fab0d58f-7a5c-4612-8cc1-1765609e83c2",
   "metadata": {},
   "outputs": [],
   "source": [
    "vector = cv.fit_transform(data['tags'].values.astype('U')).toarray()"
   ]
  },
  {
   "cell_type": "code",
   "execution_count": 23,
   "id": "33b40382-ae87-43cd-890a-05a0870eee9f",
   "metadata": {},
   "outputs": [],
   "source": [
    "similarity = cosine_similarity(vector)"
   ]
  },
  {
   "cell_type": "code",
   "execution_count": 24,
   "id": "67c5c710-bdbb-4ce6-b555-8e25fe2c7644",
   "metadata": {},
   "outputs": [
    {
     "data": {
      "text/plain": [
       "array([[1.        , 0.21764288, 0.05647825, ..., 0.        , 0.03121953,\n",
       "        0.06024752],\n",
       "       [0.21764288, 1.        , 0.02594996, ..., 0.02923527, 0.05737753,\n",
       "        0.02768183],\n",
       "       [0.05647825, 0.02594996, 1.        , ..., 0.03413944, 0.13400504,\n",
       "        0.09697623],\n",
       "       ...,\n",
       "       [0.        , 0.02923527, 0.03413944, ..., 1.        , 0.1132277 ,\n",
       "        0.03641785],\n",
       "       [0.03121953, 0.05737753, 0.13400504, ..., 0.1132277 , 1.        ,\n",
       "        0.07147417],\n",
       "       [0.06024752, 0.02768183, 0.09697623, ..., 0.03641785, 0.07147417,\n",
       "        1.        ]])"
      ]
     },
     "execution_count": 24,
     "metadata": {},
     "output_type": "execute_result"
    }
   ],
   "source": [
    "similarity"
   ]
  },
  {
   "cell_type": "code",
   "execution_count": 25,
   "id": "840ed1c3-30c8-4983-883c-f26c6faacc82",
   "metadata": {},
   "outputs": [
    {
     "data": {
      "text/plain": [
       "5696"
      ]
     },
     "execution_count": 25,
     "metadata": {},
     "output_type": "execute_result"
    }
   ],
   "source": [
    "data[data['title']=='Zodiac'].index[0]"
   ]
  },
  {
   "cell_type": "code",
   "execution_count": 27,
   "id": "8d863160-c8e1-4a49-8d7e-1599a0a00aea",
   "metadata": {},
   "outputs": [],
   "source": [
    "similar_movies = sorted(list(enumerate(similarity[5696])),reverse=True, key=lambda vector:vector[1])"
   ]
  },
  {
   "cell_type": "code",
   "execution_count": 28,
   "id": "f1a18e4f-a608-4d55-aa53-e4d65c07f7f2",
   "metadata": {},
   "outputs": [
    {
     "name": "stdout",
     "output_type": "stream",
     "text": [
      "To and From New York\n",
      "0.2637521893583148\n",
      "Gothika\n",
      "0.2637521893583148\n",
      "WHAT DID JACK DO?\n",
      "0.2449489742783178\n",
      "Interrogation\n",
      "0.223606797749979\n",
      "The Highwaymen\n",
      "0.22019275302527214\n"
     ]
    }
   ],
   "source": [
    "for i in similar_movies[1:6]:\n",
    "    print(data.iloc[i[0]].title)\n",
    "    print(i[1])"
   ]
  },
  {
   "cell_type": "code",
   "execution_count": 38,
   "id": "cf5305ad-707a-452f-af4c-bf302922a6a3",
   "metadata": {},
   "outputs": [],
   "source": [
    "def recommend_movie(movie_name):\n",
    "    movie_index = data[data['title'] == movie_name].index[0]\n",
    "    similar_movies = sorted(list(enumerate(similarity[movie_index])),reverse=True, key=lambda vector:vector[1])\n",
    "    for i in similar_movies[1:6]:\n",
    "        print(data.iloc[i[0]].title +' with similarity of ' + str(round(i[1]*100,2)))"
   ]
  },
  {
   "cell_type": "code",
   "execution_count": 39,
   "id": "3bd9a36e-bb49-4001-a757-7d092f9a13ec",
   "metadata": {},
   "outputs": [
    {
     "name": "stdout",
     "output_type": "stream",
     "text": [
      "Bangkok Breaking with similarity of 51.21\n",
      "Dealer with similarity of 50.83\n",
      "The Forest of Love: Deep Cut with similarity of 50.74\n",
      "Sleepless Society: Two Pillows & A Lost Soul with similarity of 49.67\n",
      "Unlucky Ploy with similarity of 47.36\n"
     ]
    }
   ],
   "source": [
    "recommend_movie('Ganglands')"
   ]
  },
  {
   "cell_type": "code",
   "execution_count": 40,
   "id": "6faf44cf-e202-45d9-b4b5-882b89b3694f",
   "metadata": {},
   "outputs": [],
   "source": [
    "import pickle as pk"
   ]
  },
  {
   "cell_type": "code",
   "execution_count": 41,
   "id": "15a86cb9-a833-418d-8f92-67a18c547172",
   "metadata": {},
   "outputs": [],
   "source": [
    "pk.dump(data, open('movie_dataset.pkl','wb'))"
   ]
  },
  {
   "cell_type": "code",
   "execution_count": 42,
   "id": "9c00040b-78df-4357-bba2-79e875bf2f63",
   "metadata": {},
   "outputs": [],
   "source": [
    "pk.dump(similarity, open('similarity.pkl','wb'))"
   ]
  },
  {
   "cell_type": "code",
   "execution_count": null,
   "id": "7db3a3ca-bed0-4161-81f0-6f9b75cd5605",
   "metadata": {},
   "outputs": [],
   "source": []
  }
 ],
 "metadata": {
  "kernelspec": {
   "display_name": "Python 3 (ipykernel)",
   "language": "python",
   "name": "python3"
  },
  "language_info": {
   "codemirror_mode": {
    "name": "ipython",
    "version": 3
   },
   "file_extension": ".py",
   "mimetype": "text/x-python",
   "name": "python",
   "nbconvert_exporter": "python",
   "pygments_lexer": "ipython3",
   "version": "3.12.1"
  }
 },
 "nbformat": 4,
 "nbformat_minor": 5
}
